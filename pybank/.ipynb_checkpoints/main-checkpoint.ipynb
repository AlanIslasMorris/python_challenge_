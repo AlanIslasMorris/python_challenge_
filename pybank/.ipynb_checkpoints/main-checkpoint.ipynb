{
 "cells": [
  {
   "cell_type": "code",
   "execution_count": 131,
   "id": "788005db",
   "metadata": {},
   "outputs": [
    {
     "name": "stdout",
     "output_type": "stream",
     "text": [
      "C:\\Users\\alan.islas\\ownCloud\\Alan\\Data_Analytics\\Challenge_2\\pybank\n"
     ]
    }
   ],
   "source": [
    "import os\n",
    "import locale\n",
    "import pandas as pd\n",
    "\n",
    "# Get the current working directory\n",
    "cwd = os.getcwd()\n",
    "\n",
    "# Print the current working directory\n",
    "print(cwd)"
   ]
  },
  {
   "cell_type": "code",
   "execution_count": 132,
   "id": "6ce7a141",
   "metadata": {},
   "outputs": [
    {
     "name": "stdout",
     "output_type": "stream",
     "text": [
      "     Date  Profit/Losses\n",
      "0  Jan-10        1088983\n",
      "1  feb-10        -354534\n",
      "2  mar-10         276622\n",
      "3  Apr-10        -728133\n",
      "4  may-10         852993\n"
     ]
    }
   ],
   "source": [
    "# Read the CSV file into a pandas DataFrame\n",
    "df = pd.read_csv(\"resources/budget_.csv\")\n",
    "\n",
    "# View the first few rows of the DataFrame\n",
    "print(df.head())\n"
   ]
  },
  {
   "cell_type": "code",
   "execution_count": 133,
   "id": "be13c3e9",
   "metadata": {},
   "outputs": [],
   "source": [
    "# Define a dictionary that maps month abbreviations to month numbers\n",
    "month_dict = {'Jan': 1, 'Feb': 2, 'Mar': 3, 'Apr': 4, 'May': 5, 'Jun': 6, 'Jul': 7, 'Aug': 8, 'Sep': 9, 'Oct': 10, 'Nov': 11, 'Dec': 12}\n",
    "\n",
    "# Read in the CSV file\n",
    "df = pd.read_csv('resources/budget_.csv')\n",
    "\n",
    "# Split the \"Date\" column into \"Month\" and \"Year\" columns\n",
    "df[['Month', 'Year']] = df['Date'].str.split('-', expand=True)\n",
    "\n",
    "# Map the month abbreviations to month numbers using the dictionary\n",
    "df['Month'] = df['Month'].map(month_dict)\n",
    "\n",
    "# Convert the \"Year\" column to a four-digit year\n",
    "df['Year'] = pd.to_numeric(df['Year'], downcast='integer') + 2000\n"
   ]
  },
  {
   "cell_type": "code",
   "execution_count": 134,
   "id": "337792df",
   "metadata": {},
   "outputs": [],
   "source": [
    "#Calculate total months\n",
    "Total_months = df.Month.count()\n",
    "\n",
    "# To display currency format, set the locale as default setting to\n",
    "locale.setlocale(locale.LC_ALL, '')\n",
    "\n",
    "#total profit or loss\n",
    "Total_profit_or_loss = locale.currency(df['Profit/Losses'].sum(), grouping=True, symbol=True)\n",
    "\n",
    "# Add a new column for month-to-month variation\n",
    "df['Variation'] = df['Profit/Losses'] - df['Profit/Losses'].shift(1)\n",
    "\n",
    "#Mean variation\n",
    "Average_change = locale.currency(df['Variation'].mean(), grouping=True, symbol=True)\n",
    "\n",
    "#Max month to month gain:\n",
    "max_gain_MoM = locale.currency(df.Variation.max(), grouping=True, symbol=True)\n",
    "\n",
    "# Date in which max month to month gain occurred:\n",
    "max_gain_MoM_date = df.loc[df['Variation'].idxmax(), 'Date']\n",
    "\n",
    "#Max month to month loss:\n",
    "max_loss_MoM  = locale.currency(df.Variation.min(), grouping=True, symbol=True)\n",
    "\n",
    "# Date in which max month to month loss occurred:\n",
    "max_loss_MoM_date = df.loc[df['Variation'].idxmin(), 'Date']"
   ]
  },
  {
   "cell_type": "code",
   "execution_count": 135,
   "id": "09a26d19",
   "metadata": {},
   "outputs": [],
   "source": [
    "# New DataFrame to hold the summary of findings\n",
    "summary_df = pd.DataFrame({\n",
    "    'Description': ['Total Months', 'Total Profit/Loss', 'Average Change', \n",
    "                    'Greatest Increase in Profits', 'Greatest Decrease in Profits'],\n",
    "    'Value': [Total_months, Total_profit_or_loss, Average_change, \n",
    "              f'{max_gain_MoM_date} ({max_gain_MoM})', \n",
    "              f'{max_loss_MoM_date} ({max_loss_MoM})']\n",
    "})\n",
    "\n",
    "# Export the summary DataFrame to a CSV file\n",
    "summary_df.to_csv('summary_profit_loss_per_month_analysis.csv', index=False)\n"
   ]
  }
 ],
 "metadata": {
  "hide_input": false,
  "kernelspec": {
   "display_name": "Python 3",
   "language": "python",
   "name": "python3"
  },
  "language_info": {
   "codemirror_mode": {
    "name": "ipython",
    "version": 3
   },
   "file_extension": ".py",
   "mimetype": "text/x-python",
   "name": "python",
   "nbconvert_exporter": "python",
   "pygments_lexer": "ipython3",
   "version": "3.8.8"
  }
 },
 "nbformat": 4,
 "nbformat_minor": 5
}
