{
 "cells": [
  {
   "cell_type": "code",
   "execution_count": null,
   "id": "f7117e3b",
   "metadata": {},
   "outputs": [],
   "source": [
    "import pandas as pd\n",
    "\n",
    "# Set the file path\n",
    "file_path = \"resources/election_data.csv\"\n",
    "\n",
    "# Read the CSV file into a pandas DataFrame\n",
    "df = pd.read_csv(file_path)"
   ]
  },
  {
   "cell_type": "code",
   "execution_count": 13,
   "id": "99b430c5",
   "metadata": {},
   "outputs": [
    {
     "name": "stdout",
     "output_type": "stream",
     "text": [
      "Election Results\n",
      "-------------------------\n",
      "Total Votes: 369,711\n",
      "-------------------------\n",
      "Charles Casper Stockham: 23.0% (85213)\n",
      "Diana DeGette: 73.8% (272892)\n",
      "Raymon Anthony Doane: 3.1% (11606)\n",
      "-------------------------\n",
      "Winner: Diana DeGette\n",
      "-------------------------\n"
     ]
    }
   ],
   "source": [
    "# group the data by candidate and sum the votes\n",
    "results = df.groupby('Candidate')['Ballot ID'].count().reset_index()\n",
    "results = results.rename(columns={'Ballot ID': 'Number of Votes'})\n",
    "\n",
    "# calculate the total number of votes\n",
    "total_votes = results['Number of Votes'].sum()\n",
    "\n",
    "# calculate the percentage of votes for each candidate\n",
    "results['Vote Percentage'] = (results['Number of Votes'] / total_votes) * 100\n",
    "\n",
    "# format the percentage column to display one decimal place\n",
    "results['Vote Percentage'] = results['Vote Percentage'].map('{:.1f}%'.format)\n",
    "\n",
    "\n",
    "# display the election results\n",
    "print('Election Results')\n",
    "print('-' * 25)\n",
    "print(f'Total Votes: {total_votes:,}')\n",
    "print('-' * 25)\n",
    "for index, row in results.iterrows():\n",
    "    print(f\"{row['Candidate']}: {row['Vote Percentage']} ({row['Number of Votes']})\")\n",
    "print('-' * 25)\n",
    "winner = results.loc[results['Number of Votes'].astype(int).idxmax(), 'Candidate']\n",
    "print(f\"Winner: {winner}\")\n",
    "print('-' * 25)\n"
   ]
  },
  {
   "cell_type": "code",
   "execution_count": null,
   "id": "9ac27701",
   "metadata": {},
   "outputs": [],
   "source": []
  }
 ],
 "metadata": {
  "hide_input": false,
  "kernelspec": {
   "display_name": "Python 3",
   "language": "python",
   "name": "python3"
  },
  "language_info": {
   "codemirror_mode": {
    "name": "ipython",
    "version": 3
   },
   "file_extension": ".py",
   "mimetype": "text/x-python",
   "name": "python",
   "nbconvert_exporter": "python",
   "pygments_lexer": "ipython3",
   "version": "3.8.8"
  }
 },
 "nbformat": 4,
 "nbformat_minor": 5
}
