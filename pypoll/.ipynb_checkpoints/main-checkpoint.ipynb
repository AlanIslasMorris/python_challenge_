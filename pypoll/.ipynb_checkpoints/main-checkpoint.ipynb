{
 "cells": [
  {
   "cell_type": "code",
   "execution_count": 2,
   "id": "000c8171",
   "metadata": {},
   "outputs": [
    {
     "name": "stdout",
     "output_type": "stream",
     "text": [
      "C:\\Users\\alan.islas\\ownCloud\\Alan\\Data_Analytics\\Challenge_2\\pypoll\n"
     ]
    }
   ],
   "source": [
    "import os\n",
    "import pandas as pd\n",
    "\n",
    "# Get the current working directory\n",
    "cwd = os.getcwd()\n",
    "\n",
    "# Print the current working directory\n",
    "print(cwd)\n"
   ]
  },
  {
   "cell_type": "code",
   "execution_count": 3,
   "id": "72dc822c",
   "metadata": {},
   "outputs": [
    {
     "name": "stdout",
     "output_type": "stream",
     "text": [
      "   Ballot ID     County                Candidate\n",
      "0    1323913  Jefferson  Charles Casper Stockham\n",
      "1    1005842  Jefferson  Charles Casper Stockham\n",
      "2    1880345  Jefferson  Charles Casper Stockham\n",
      "3    1600337  Jefferson  Charles Casper Stockham\n",
      "4    1835994  Jefferson  Charles Casper Stockham\n"
     ]
    }
   ],
   "source": [
    "# Set the file path\n",
    "file_path = \"resources/election_data.csv\"\n",
    "\n",
    "# Read the CSV file into a pandas DataFrame\n",
    "df = pd.read_csv(file_path)\n",
    "\n",
    "# View the first few rows of the DataFrame\n",
    "print(df.head())\n"
   ]
  },
  {
   "cell_type": "code",
   "execution_count": 4,
   "id": "682fb29b",
   "metadata": {},
   "outputs": [
    {
     "name": "stdout",
     "output_type": "stream",
     "text": [
      "369711\n"
     ]
    }
   ],
   "source": [
    "Amount_of_people_who_vote = df[\"Ballot ID\"].count()\n",
    "print(Amount_of_people_who_vote)"
   ]
  },
  {
   "cell_type": "code",
   "execution_count": 5,
   "id": "c6c9ba61",
   "metadata": {},
   "outputs": [
    {
     "data": {
      "text/plain": [
       "array(['Charles Casper Stockham', 'Diana DeGette', 'Raymon Anthony Doane'],\n",
       "      dtype=object)"
      ]
     },
     "execution_count": 5,
     "metadata": {},
     "output_type": "execute_result"
    }
   ],
   "source": [
    "df.Candidate.unique()"
   ]
  },
  {
   "cell_type": "code",
   "execution_count": 6,
   "id": "db00c094",
   "metadata": {},
   "outputs": [],
   "source": [
    "# group by candidate and sum the number of votes\n",
    "vote_counts = df.groupby('Candidate')['Ballot ID'].count()\n",
    "\n",
    "# calculate the total number of votes\n",
    "total_votes = vote_counts.sum()\n",
    "\n",
    "# calculate the percentage of votes for each candidate\n",
    "percentages = vote_counts / total_votes * 100\n",
    "\n",
    "# round the percentages to one decimal place\n",
    "percentages = percentages.round(2)\n",
    "\n",
    "# create a new dataframe with the candidate names, vote counts, and percentages\n",
    "results = pd.DataFrame({'Candidate': vote_counts.index, \n",
    "                        'Number of Votes': vote_counts.values, \n",
    "                        'Percentage of Total': percentages.values})\n",
    "\n",
    "# format the vote counts and percentages as strings with commas and percent signs\n",
    "results['Number of Votes'] = results['Number of Votes'].apply(lambda x: '{0:,}'.format(x))\n",
    "results['Percentage of Total'] = results['Percentage of Total'].apply(lambda x: '{0:.1f}%'.format(x))\n",
    "\n",
    "# export the results to a new csv file\n",
    "results.to_csv('results_file.csv', index=False)\n"
   ]
  },
  {
   "cell_type": "code",
   "execution_count": 7,
   "id": "07353528",
   "metadata": {},
   "outputs": [
    {
     "name": "stdout",
     "output_type": "stream",
     "text": [
      "The winner is: Diana DeGette\n"
     ]
    }
   ],
   "source": [
    "# convert the 'Number of Votes' column to numeric dtype\n",
    "results['Number of Votes'] = pd.to_numeric(results['Number of Votes'].str.replace(',', ''))\n",
    "\n",
    "# find the name of the candidate with the most votes\n",
    "winner = results.loc[results['Number of Votes'].idxmax(), 'Candidate']\n",
    "\n",
    "# print the name of the winner\n",
    "print(\"The winner is: \" + winner)\n",
    "\n"
   ]
  },
  {
   "cell_type": "code",
   "execution_count": null,
   "id": "4dad5f09",
   "metadata": {},
   "outputs": [],
   "source": []
  }
 ],
 "metadata": {
  "hide_input": false,
  "kernelspec": {
   "display_name": "Python 3",
   "language": "python",
   "name": "python3"
  },
  "language_info": {
   "codemirror_mode": {
    "name": "ipython",
    "version": 3
   },
   "file_extension": ".py",
   "mimetype": "text/x-python",
   "name": "python",
   "nbconvert_exporter": "python",
   "pygments_lexer": "ipython3",
   "version": "3.8.8"
  }
 },
 "nbformat": 4,
 "nbformat_minor": 5
}
